{
 "cells": [
  {
   "cell_type": "code",
   "execution_count": 1,
   "id": "39e0478d-60bf-45ab-9eb6-ad0c51bb2e8b",
   "metadata": {},
   "outputs": [],
   "source": [
    "import serial\n",
    "ser = serial.Serial('/dev/ttyUSB1', 115200, timeout=60*60)"
   ]
  },
  {
   "cell_type": "code",
   "execution_count": null,
   "id": "d8f88147-2178-461d-92a6-8be4e3d1eb04",
   "metadata": {},
   "outputs": [],
   "source": [
    "while x := ser.read(1):\n",
    "    try:\n",
    "        print(x.decode('utf-8'), end='')\n",
    "    except:\n",
    "        print(x, end='')"
   ]
  },
  {
   "cell_type": "code",
   "execution_count": 3,
   "id": "2a6a4a35-b03b-44bc-86a9-7f708d98336d",
   "metadata": {},
   "outputs": [],
   "source": [
    "import pandas as pd\n",
    "from datetime import datetime\n",
    "# Headers and datatypes for pandas dframe\n",
    "header_raw = (r'^ID;Timestamp;GyroscopeX;GyroscopeY;GyroscopeZ;AccelerometerX;AccelerometerY;',\n",
    "           'AccelerometerZ;Barometer;Thermometer;ThermometerStupido;Voltage$')\n",
    "\n",
    "headers = [\n",
    "    \"ID\", \"Timestamp\", \"GyroscopeX\", \"GyroscopeY\", \"GyroscopeZ\", \"AccelerometerX\", \"AccelerometerY\",\n",
    "    \"AccelerometerZ\", \"Barometer\", \"Thermometer\", \"ThermometerStupido\", \"Voltage\",\n",
    "]\n",
    "\n",
    "datatypes = [int, int, float, float, float, float, float, float, int, float, float, float]\n"
   ]
  },
  {
   "cell_type": "code",
   "execution_count": 5,
   "id": "db8dbef6-e576-4f32-bd09-292add0ae464",
   "metadata": {},
   "outputs": [],
   "source": [
    "def init_dataframe():\n",
    "    return pd.DataFrame({}, columns=headers).set_index('ID')\n",
    "\n",
    "def dump_dataframe(df):\n",
    "    df.to_csv(f'LOG_{datetime.now().isoformat()}.csv')\n",
    "\n",
    "def is_csv_header(line):\n",
    "    # Simple heuristic to check if a line is a CSV header\n",
    "    return bool(re.match(header_raw, line))\n",
    "\n",
    "def is_csv_row(line):\n",
    "    # Simple heuristic to check if a line could be a CSV row\n",
    "    return bool(re.match(r'^-?\\d+(\\.\\d+)?(;-?\\d+(\\.\\d+)?)*$', line))\n",
    "\n",
    "def append_csv_row(row, df):\n",
    "    values = row.split(';')\n",
    "    df.append({header: dt(val) for header, dt, val in zip(headers, datatypes, values)})\n",
    "\n",
    "def process_line(line, df):\n",
    "    if is_csv_header(line):\n",
    "        dump_dataframe(df)\n",
    "    elif is_csv_row(line):\n",
    "        append_csv_row(line, df)\n",
    "        "
   ]
  },
  {
   "cell_type": "code",
   "execution_count": 3,
   "id": "36da7027-4c59-4f7d-bbf6-50374407a63d",
   "metadata": {},
   "outputs": [
    {
     "name": "stdout",
     "output_type": "stream",
     "text": [
      "b'+'b'+'b'+'b'+'b'+'b'+'b'+'b'+'b'+'b'+'b'+'b'+'b'+'b'+'b'+'b'+'b'+'b'+'b'+'b'+'b'+'b'+'b'+'b'+'b'+'b'+'b'+'b'+'b'+'b'+'b'+'b'+'b'+'b'+'b'+'b'+'b'+'b'+'b'+'b'+'b'\\r'b'\\n'b'I'b't'b'e'b'r'b'a'b't'b'i'b'o'b'n'b':'b' 'b'4'b'3'b'9'b'\\r'b'\\n'b'1'b')'b' 'b'b'b'u'b'f'b'f'b'e'b'r'b'e'b'd'b' 'b'm'b'e'b's'b's'b'a'b'g'b'e'b's'b':'b'\\r'b'\\n'b'2'b')'b' 'b'S'b'e'b'n'b'd'b'i'b'n'b'g'b':'b' 'b'\\r'b'\\n'b'S'b'e'b'n'b't'b' 'b'O'b'K'b' 'b'.'b'.'b'.'b'\\r'b'\\n'b'A'b'c'b'k'b' 'b'f'b'o'b'r'b' 'b'l'b'a'b's'b't'b' 'b'm'b'e'b's'b's'b'a'b'g'b'e'b':'b' 'b'4'b'3'b'9'b'\\r'b'\\n'b'+'b'+'b'+'b'+'b'+'b'+'b'+'b'+'b'+'b'+'b'+'b'+'b'+'b'+'b'+'b'+'b'+'b'+'b'+'b'+'b'+'b'+'b'+'b'+'b'+'b'+'b'+'b'+'b'+'b'+'b'+'b'+'b'+'b'+'b'+'b'+'b'+'b'+'b'+'b'+'b'\\r'b'\\n'b'I'b't'b'e'b'r'b'a'b't'b'i'b'o'b'n'b':'b' 'b'4'b'4'b'0'b'\\r'b'\\n'b'1'b')'b' 'b'b'b'u'b'f'b'f'b'e'b'r'b'e'b'd'b' 'b'm'b'e'b's'b's'b'a'b'g'b'e'b's'b':'b'\\r'b'\\n'b'2'b')'b' 'b'S'b'e'b'n'b'd'b'i'b'n'b'g'b':'b' 'b'\\r'b'\\n'b'S'b'e'b'n'b't'b' 'b'O'b'K'b' 'b'.'b'.'b'.'b'\\r'b'\\n'b'A'b'c'b'k'b' 'b'f'b'o'b'r'b' 'b'l'b'a'b's'b't'b' 'b'm'b'e'b's'b's'b'a'b'g'b'e'b':'b' 'b'4'b'4'b'0'b'\\r'b'\\n'"
     ]
    },
    {
     "ename": "KeyboardInterrupt",
     "evalue": "",
     "output_type": "error",
     "traceback": [
      "\u001b[0;31m---------------------------------------------------------------------------\u001b[0m",
      "\u001b[0;31mKeyboardInterrupt\u001b[0m                         Traceback (most recent call last)",
      "Cell \u001b[0;32mIn[3], line 15\u001b[0m\n\u001b[1;32m     12\u001b[0m ser \u001b[38;5;241m=\u001b[39m serial\u001b[38;5;241m.\u001b[39mSerial(device, \u001b[38;5;241m115200\u001b[39m, timeout\u001b[38;5;241m=\u001b[39m\u001b[38;5;241m60\u001b[39m\u001b[38;5;241m*\u001b[39m\u001b[38;5;241m60\u001b[39m)\n\u001b[1;32m     13\u001b[0m line \u001b[38;5;241m=\u001b[39m []\n\u001b[0;32m---> 15\u001b[0m \u001b[38;5;28;01mwhile\u001b[39;00m x \u001b[38;5;241m:=\u001b[39m \u001b[43mser\u001b[49m\u001b[38;5;241;43m.\u001b[39;49m\u001b[43mread\u001b[49m\u001b[43m(\u001b[49m\u001b[38;5;241;43m1\u001b[39;49m\u001b[43m)\u001b[49m:\n\u001b[1;32m     16\u001b[0m     \u001b[38;5;28;01mtry\u001b[39;00m:\n\u001b[1;32m     17\u001b[0m         parsed_x \u001b[38;5;241m=\u001b[39m x\u001b[38;5;241m.\u001b[39mdecode(\u001b[38;5;124m\"\u001b[39m\u001b[38;5;124mUTF-8\u001b[39m\u001b[38;5;124m\"\u001b[39m)\n",
      "File \u001b[0;32m~/skola/FEKT/NDE/Boloney/ground_station/gs/lib/python3.11/site-packages/serial/serialposix.py:565\u001b[0m, in \u001b[0;36mSerial.read\u001b[0;34m(self, size)\u001b[0m\n\u001b[1;32m    563\u001b[0m \u001b[38;5;28;01mwhile\u001b[39;00m \u001b[38;5;28mlen\u001b[39m(read) \u001b[38;5;241m<\u001b[39m size:\n\u001b[1;32m    564\u001b[0m     \u001b[38;5;28;01mtry\u001b[39;00m:\n\u001b[0;32m--> 565\u001b[0m         ready, _, _ \u001b[38;5;241m=\u001b[39m select\u001b[38;5;241m.\u001b[39mselect([\u001b[38;5;28mself\u001b[39m\u001b[38;5;241m.\u001b[39mfd, \u001b[38;5;28mself\u001b[39m\u001b[38;5;241m.\u001b[39mpipe_abort_read_r], [], [], timeout\u001b[38;5;241m.\u001b[39mtime_left())\n\u001b[1;32m    566\u001b[0m         \u001b[38;5;28;01mif\u001b[39;00m \u001b[38;5;28mself\u001b[39m\u001b[38;5;241m.\u001b[39mpipe_abort_read_r \u001b[38;5;129;01min\u001b[39;00m ready:\n\u001b[1;32m    567\u001b[0m             os\u001b[38;5;241m.\u001b[39mread(\u001b[38;5;28mself\u001b[39m\u001b[38;5;241m.\u001b[39mpipe_abort_read_r, \u001b[38;5;241m1000\u001b[39m)\n",
      "\u001b[0;31mKeyboardInterrupt\u001b[0m: "
     ]
    }
   ],
   "source": [
    "import sys\n",
    "import re\n",
    "\n",
    "import pandas as pd\n",
    "import serial\n",
    "\n",
    "# Expected indexes of gyro and acc\n",
    "gyro = [2, 3, 4]\n",
    "aclr = [5, 6, 7]\n",
    "\n",
    "# Activates when CSV header is read\n",
    "\n",
    "device = '/dev/ttyUSB1'\n",
    "ser = serial.Serial(device, 115200, timeout=60*60)\n",
    "line = []\n",
    "\n",
    "df = init_dataframe()\n",
    "\n",
    "while x := ser.read(1):\n",
    "    try:\n",
    "        parsed_x = x.decode(\"UTF-8\")\n",
    "        if parsed_x == '\\n':\n",
    "            process_line(line)\n",
    "        else:\n",
    "            line = line + parsed_x\n",
    "    except:\n",
    "        print(x, end='')\n"
   ]
  },
  {
   "cell_type": "code",
   "execution_count": null,
   "id": "34c395e4-adb8-4cdc-b7db-4045084a6d40",
   "metadata": {},
   "outputs": [],
   "source": []
  }
 ],
 "metadata": {
  "kernelspec": {
   "display_name": "Python 3 (ipykernel)",
   "language": "python",
   "name": "python3"
  },
  "language_info": {
   "codemirror_mode": {
    "name": "ipython",
    "version": 3
   },
   "file_extension": ".py",
   "mimetype": "text/x-python",
   "name": "python",
   "nbconvert_exporter": "python",
   "pygments_lexer": "ipython3",
   "version": "3.11.6"
  }
 },
 "nbformat": 4,
 "nbformat_minor": 5
}
