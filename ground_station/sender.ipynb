{
 "cells": [
  {
   "cell_type": "code",
   "execution_count": 1,
   "id": "2a6a4a35-b03b-44bc-86a9-7f708d98336d",
   "metadata": {},
   "outputs": [],
   "source": [
    "import pandas as pd\n",
    "from datetime import datetime\n",
    "# Headers and datatypes for pandas dframe\n",
    "header_raw = (r'^ID;Timestamp;GyroscopeX;GyroscopeY;GyroscopeZ;AccelerometerX;AccelerometerY;' \\\n",
    "           'AccelerometerZ;Barometer;Thermometer;ThermometerStupido;Voltage$')\n",
    "\n",
    "headers = [\n",
    "    \"ID\", \"Timestamp\", \"GyroscopeX\", \"GyroscopeY\", \"GyroscopeZ\", \"AccelerometerX\", \"AccelerometerY\",\n",
    "    \"AccelerometerZ\", \"Barometer\", \"Thermometer\", \"ThermometerStupido\", \"Voltage\",\n",
    "]\n",
    "\n",
    "datatypes = [int, int, float, float, float, float, float, float, int, float, float, float]\n"
   ]
  },
  {
   "cell_type": "code",
   "execution_count": 2,
   "id": "db8dbef6-e576-4f32-bd09-292add0ae464",
   "metadata": {},
   "outputs": [],
   "source": [
    "def init_dataframe(data=None):\n",
    "    if data == None:\n",
    "        return pd.DataFrame({}, columns=headers)\n",
    "    return pd.DataFrame(data, columns=headers, index=[0])\n",
    "\n",
    "def dump_dataframe(df):\n",
    "    df.to_csv(f'LOG_{datetime.now().isoformat()}.csv', index=False)\n",
    "\n",
    "def is_csv_header(line):\n",
    "    # Simple heuristic to check if a line is a CSV header\n",
    "    return bool(re.match(header_raw, line))\n",
    "\n",
    "def is_csv_row(line):\n",
    "    # Simple heuristic to check if a line could be a CSV row\n",
    "    return bool(re.match(r'^-?\\d+(\\.\\d+)?(;-?\\d+(\\.\\d+)?)*$', line))\n",
    "\n",
    "def append_csv_row(row, df):\n",
    "    values = row.split(';')\n",
    "    data = {header: dt(val) for header, dt, val in zip(headers, datatypes, values)}\n",
    "    return pd.concat((df, init_dataframe(data=data)), ignore_index=True).sort_values('ID')\n",
    "\n",
    "def process_line(line, df):\n",
    "    if is_csv_header(line):\n",
    "        dump_dataframe(df)\n",
    "    elif is_csv_row(line):\n",
    "        append_csv_row(line, df)\n",
    "        "
   ]
  },
  {
   "cell_type": "code",
   "execution_count": 3,
   "id": "36da7027-4c59-4f7d-bbf6-50374407a63d",
   "metadata": {},
   "outputs": [
    {
     "name": "stdout",
     "output_type": "stream",
     "text": [
      "'0;0.00;0.00;0.00;0.00;7;8.00;9.00;10.00'\n",
      "'utf-8' codec can't decode byte 0xf4 in position 1: invalid continuation byte\n",
      "Error False: b\"e\\xf4.R\\xd5n\\xa0\\xc2\\x02\\x920\\xb1\\x13\\x82\\xc2:&\\xa6\\xaa7\\r\\xa1HH\\xcd\\xd1i0\\xf8LB\\x02=]ER\\xca}\\xc9E\\xd3QU\\x89\\t\\xbdot'\\xc2E3 i\\x05\\x95}\\x19\\x85S\\x94e1AS\\xea%\\xbdO\\xd4JC!\\x96+\\xcd\\xa1\\x01reX\\x16*\\xc9\\xc9q \\xb1\\x82\\x82*\"\n",
      "'utf-8' codec can't decode byte 0xfd in position 2: invalid start byte\n",
      "Error False: b'YW\\xfdm\\xe1Z\\xcbi\\x81\\xb3S\\x02*'\n",
      "'utf-8' codec can't decode byte 0xf4 in position 1: invalid continuation byte\n",
      "Error False: b\"e\\xf4.R\\xd5\\xb9\\x81 8\\x92\\x82\\x8a6\\xa0\\x82\\xd2\\x922\\xbaMSH\\r!\\xae\\xd1:\\xb0\\xc5\\xb0B\\x92Q\\r]DT\\xa5Q\\x8d_\\xd2Qj\\x14U\\x89I\\xbd\\xbdt:\\xc2\\xc53 \\xa8*\\x95}\\x19\\x05STe1\\x85S\\xc8%=\\xbdT\\xa9C\\xa1\\xac\\xcb\\x99ig\\xae\\x0bi \\xb0\\t\\x9aA%]P:\\xc2\\x95\\x95\\r\\x8a,k\\xebE\\xc9v:\\xc2\\xc10,\\xf1\\x05\\xc9\\xd9:\\xb0\\xc1\\xb0\\x89}dr\\x97\\x82\\xc2\\xc1\\xb0)\\xcd0_\\x96\\xd9i0\\xf8\\x82b\\xc2\\x91}dr\\xb6'\\xc2\\xc10i\\xc1\\xbdd\\xf2\\x17\\x82\\xc2\\xc10\\r\"\n",
      "'utf-8' codec can't decode byte 0x8b in position 1: invalid start byte\n",
      "Error False: b'[\\x8b\\x95:\\xc4R\\x8a\\t\\x1a\\xb1oc-\"\\xa5v\\xba\\xa6H\\x88\\xeb\\x85d:\\xc2\\xcdff\\xe6\\x82\\x9a\\x82,\\xacYK\\x8a\\x8a\\xc24\\x8d!\\xeb+\\x91\\xe90x\\x13\\x82\\xba8\\xb0\\x82b\\xe2\\x95\\xb9:1&\\xa6\\x92\\r\\x8a\\xeb\\x85d:\\xc2\\xd1008\\xa2\\x82\\x82,\\xecYK\\x9a0&j'\n",
      "'utf-8' codec can't decode byte 0x97 in position 2: invalid start byte\n",
      "Error False: b'en\\x97\\xe5\\x010\\xf8\\x13\\x82\\xc20MYSHMAC address: C8:F0:9E:9B:32:4\\r'\n",
      "'Received msg: 1173'\n"
     ]
    },
    {
     "name": "stderr",
     "output_type": "stream",
     "text": [
      "/tmp/ipykernel_179053/3665151942.py:20: FutureWarning: The behavior of DataFrame concatenation with empty or all-NA entries is deprecated. In a future version, this will no longer exclude empty or all-NA columns when determining the result dtypes. To retain the old behavior, exclude the relevant entries before the concat operation.\n",
      "  return pd.concat((df, init_dataframe(data=data)), ignore_index=True).sort_values('ID')\n"
     ]
    },
    {
     "name": "stdout",
     "output_type": "stream",
     "text": [
      "'Received msg: 1174'\n",
      "'Received msg: 1170'\n",
      "'Received msg: 1171'\n",
      "'Received msg: 1172'\n",
      "'Received msg: 1173'\n",
      "'Received msg: 1175'\n",
      "'Received msg: 1170'\n",
      "'Received msg: 1176'\n",
      "'Received msg: 1177'\n",
      "'Received msg: 1178'\n",
      "'Received msg: 1179'\n",
      "'Received msg: 1180'\n",
      "'Received msg: 1181'\n",
      "'Received msg: 1182'\n",
      "'Received msg: 1183'\n",
      "'Received msg: 1184'\n",
      "'Received msg: 1185'\n",
      "'Received msg: 1186'\n",
      "'Received msg: 1187'\n"
     ]
    },
    {
     "ename": "KeyboardInterrupt",
     "evalue": "",
     "output_type": "error",
     "traceback": [
      "\u001b[0;31m---------------------------------------------------------------------------\u001b[0m",
      "\u001b[0;31mKeyboardInterrupt\u001b[0m                         Traceback (most recent call last)",
      "Cell \u001b[0;32mIn[3], line 20\u001b[0m\n\u001b[1;32m     17\u001b[0m df \u001b[38;5;241m=\u001b[39m init_dataframe()\n\u001b[1;32m     18\u001b[0m activated \u001b[38;5;241m=\u001b[39m \u001b[38;5;28;01mFalse\u001b[39;00m\n\u001b[0;32m---> 20\u001b[0m \u001b[38;5;28;01mwhile\u001b[39;00m x \u001b[38;5;241m:=\u001b[39m \u001b[43mser\u001b[49m\u001b[38;5;241;43m.\u001b[39;49m\u001b[43mread\u001b[49m\u001b[43m(\u001b[49m\u001b[38;5;241;43m1\u001b[39;49m\u001b[43m)\u001b[49m:\n\u001b[1;32m     21\u001b[0m     \u001b[38;5;28;01mif\u001b[39;00m x[\u001b[38;5;241m0\u001b[39m] \u001b[38;5;241m==\u001b[39m \u001b[38;5;241m10\u001b[39m:\n\u001b[1;32m     22\u001b[0m         \u001b[38;5;28;01mtry\u001b[39;00m:\n",
      "File \u001b[0;32m~/skola/FEKT/NDE/Boloney/gs/lib/python3.9/site-packages/serial/serialposix.py:565\u001b[0m, in \u001b[0;36mSerial.read\u001b[0;34m(self, size)\u001b[0m\n\u001b[1;32m    563\u001b[0m \u001b[38;5;28;01mwhile\u001b[39;00m \u001b[38;5;28mlen\u001b[39m(read) \u001b[38;5;241m<\u001b[39m size:\n\u001b[1;32m    564\u001b[0m     \u001b[38;5;28;01mtry\u001b[39;00m:\n\u001b[0;32m--> 565\u001b[0m         ready, _, _ \u001b[38;5;241m=\u001b[39m \u001b[43mselect\u001b[49m\u001b[38;5;241;43m.\u001b[39;49m\u001b[43mselect\u001b[49m\u001b[43m(\u001b[49m\u001b[43m[\u001b[49m\u001b[38;5;28;43mself\u001b[39;49m\u001b[38;5;241;43m.\u001b[39;49m\u001b[43mfd\u001b[49m\u001b[43m,\u001b[49m\u001b[43m \u001b[49m\u001b[38;5;28;43mself\u001b[39;49m\u001b[38;5;241;43m.\u001b[39;49m\u001b[43mpipe_abort_read_r\u001b[49m\u001b[43m]\u001b[49m\u001b[43m,\u001b[49m\u001b[43m \u001b[49m\u001b[43m[\u001b[49m\u001b[43m]\u001b[49m\u001b[43m,\u001b[49m\u001b[43m \u001b[49m\u001b[43m[\u001b[49m\u001b[43m]\u001b[49m\u001b[43m,\u001b[49m\u001b[43m \u001b[49m\u001b[43mtimeout\u001b[49m\u001b[38;5;241;43m.\u001b[39;49m\u001b[43mtime_left\u001b[49m\u001b[43m(\u001b[49m\u001b[43m)\u001b[49m\u001b[43m)\u001b[49m\n\u001b[1;32m    566\u001b[0m         \u001b[38;5;28;01mif\u001b[39;00m \u001b[38;5;28mself\u001b[39m\u001b[38;5;241m.\u001b[39mpipe_abort_read_r \u001b[38;5;129;01min\u001b[39;00m ready:\n\u001b[1;32m    567\u001b[0m             os\u001b[38;5;241m.\u001b[39mread(\u001b[38;5;28mself\u001b[39m\u001b[38;5;241m.\u001b[39mpipe_abort_read_r, \u001b[38;5;241m1000\u001b[39m)\n",
      "\u001b[0;31mKeyboardInterrupt\u001b[0m: "
     ]
    }
   ],
   "source": [
    "import sys\n",
    "import re\n",
    "\n",
    "import pandas as pd\n",
    "import serial\n",
    "\n",
    "# Expected indexes of gyro and acc\n",
    "gyro = [2, 3, 4]\n",
    "aclr = [5, 6, 7]\n",
    "\n",
    "# Activates when CSV header is read\n",
    "\n",
    "device = '/dev/ttyACM0'\n",
    "ser = serial.Serial(device, 115200, timeout=60*60)\n",
    "line = b''\n",
    "\n",
    "df = init_dataframe()\n",
    "activated = False\n",
    "\n",
    "while x := ser.read(1):\n",
    "    if x[0] == 10:\n",
    "        try:\n",
    "            line = line.decode(\"UTF-8\").strip()\n",
    "            if is_csv_header(line):\n",
    "                if activated:\n",
    "                    dump_dataframe(df)\n",
    "                    df = init_dataframe()\n",
    "                activated = True\n",
    "            elif is_csv_row(line) and activated:\n",
    "                df = append_csv_row(line, df)\n",
    "            else:\n",
    "                print(repr(line))\n",
    "        except Exception as e:\n",
    "            print(e)\n",
    "            print(f\"Error {activated}: {line}\")\n",
    "        finally:\n",
    "            line = b''\n",
    "        \n",
    "    else:\n",
    "        line += x\n",
    "    "
   ]
  },
  {
   "cell_type": "code",
   "execution_count": null,
   "id": "c218eb21-633e-435d-acef-3e2418e329b0",
   "metadata": {},
   "outputs": [],
   "source": [
    "ord('\\n')"
   ]
  },
  {
   "cell_type": "code",
   "execution_count": null,
   "id": "b796f4ab-6395-408e-96d8-e0f4cbcc4b74",
   "metadata": {},
   "outputs": [],
   "source": [
    "header_raw"
   ]
  },
  {
   "cell_type": "code",
   "execution_count": null,
   "id": "c033691f-43c8-4ca4-9a8f-98c471279103",
   "metadata": {},
   "outputs": [],
   "source": [
    "dir(df)"
   ]
  },
  {
   "cell_type": "code",
   "execution_count": null,
   "id": "f80b672f-f175-4373-b41f-df638ee06e27",
   "metadata": {},
   "outputs": [],
   "source": [
    "'ID;Timestamp;GyroscopeX;GyroscopeY;GyroscopeZ;AccelerometerX;AccelerometerY;AccelerometerZ;Barometer;Thermometer;ThermometerStupido;Voltage\\r'.strip()"
   ]
  },
  {
   "cell_type": "code",
   "execution_count": null,
   "id": "7522a8af-7c9d-437f-8868-dc0b9ebfd978",
   "metadata": {},
   "outputs": [],
   "source": [
    "df._append"
   ]
  },
  {
   "cell_type": "code",
   "execution_count": null,
   "id": "4dcf10d7-5e4c-4f13-bf89-b49c62169890",
   "metadata": {},
   "outputs": [],
   "source": []
  }
 ],
 "metadata": {
  "kernelspec": {
   "display_name": "Python 3 (ipykernel)",
   "language": "python",
   "name": "python3"
  },
  "language_info": {
   "codemirror_mode": {
    "name": "ipython",
    "version": 3
   },
   "file_extension": ".py",
   "mimetype": "text/x-python",
   "name": "python",
   "nbconvert_exporter": "python",
   "pygments_lexer": "ipython3",
   "version": "3.9.7"
  }
 },
 "nbformat": 4,
 "nbformat_minor": 5
}
